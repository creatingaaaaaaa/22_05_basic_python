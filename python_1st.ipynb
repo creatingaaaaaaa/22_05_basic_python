{
  "nbformat": 4,
  "nbformat_minor": 0,
  "metadata": {
    "colab": {
      "provenance": [],
      "authorship_tag": "ABX9TyO4djs0cE/fzvWpnYnXhLzY",
      "include_colab_link": true
    },
    "kernelspec": {
      "name": "python3",
      "display_name": "Python 3"
    },
    "language_info": {
      "name": "python"
    }
  },
  "cells": [
    {
      "cell_type": "markdown",
      "metadata": {
        "id": "view-in-github",
        "colab_type": "text"
      },
      "source": [
        "<a href=\"https://colab.research.google.com/github/creatingaaaaaaa/22_05_basic_python/blob/main/python_1st.ipynb\" target=\"_parent\"><img src=\"https://colab.research.google.com/assets/colab-badge.svg\" alt=\"Open In Colab\"/></a>"
      ]
    },
    {
      "cell_type": "markdown",
      "source": [
        "1.안녕하세요를 화면에 출력해보자."
      ],
      "metadata": {
        "id": "j_JPcPd9ZCAX"
      }
    },
    {
      "cell_type": "code",
      "source": [
        "print(\"안녕하세요.\")"
      ],
      "metadata": {
        "colab": {
          "base_uri": "https://localhost:8080/"
        },
        "id": "5ttyao1KZSu7",
        "outputId": "264bcd44-b09f-458b-aba1-4b88faf3d021"
      },
      "execution_count": 1,
      "outputs": [
        {
          "output_type": "stream",
          "name": "stdout",
          "text": [
            "안녕하세요.\n"
          ]
        }
      ]
    },
    {
      "cell_type": "markdown",
      "source": [
        "2.programming 에 입문하신것을 축하드립니다."
      ],
      "metadata": {
        "id": "dQxYdAVJaNqC"
      }
    },
    {
      "cell_type": "code",
      "source": [
        "print(\"programming 에 입문하신것을 축하드립니다.\")"
      ],
      "metadata": {
        "colab": {
          "base_uri": "https://localhost:8080/"
        },
        "id": "J4NIA-FBaPBD",
        "outputId": "aad1e2ab-4d69-437d-b08c-e8546978faee"
      },
      "execution_count": 2,
      "outputs": [
        {
          "output_type": "stream",
          "name": "stdout",
          "text": [
            "programming 에 입문하신것을 축하드립니다.\n"
          ]
        }
      ]
    }
  ]
}